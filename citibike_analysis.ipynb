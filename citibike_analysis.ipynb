{
 "cells": [
  {
   "cell_type": "code",
   "execution_count": null,
   "metadata": {},
   "outputs": [],
   "source": [
    "# !pip3 install folium\n",
    "# !pip3 install seaborn"
   ]
  },
  {
   "cell_type": "code",
   "execution_count": null,
   "metadata": {},
   "outputs": [],
   "source": [
    "import matplotlib.pyplot as plt\n",
    "import pandas as pd\n",
    "import numpy as np\n",
    "import seaborn as sns\n",
    "import folium\n",
    "from folium import plugins"
   ]
  },
  {
   "cell_type": "code",
   "execution_count": null,
   "metadata": {},
   "outputs": [],
   "source": [
    "df0 = pd.read_csv('./misc_data/202007-citibike-tripdata.csv')"
   ]
  },
  {
   "cell_type": "code",
   "execution_count": null,
   "metadata": {},
   "outputs": [],
   "source": [
    "df1 = df0[df0['starttime'].str.contains('2020-07-01')]"
   ]
  },
  {
   "cell_type": "code",
   "execution_count": null,
   "metadata": {},
   "outputs": [],
   "source": [
    "df = df1"
   ]
  },
  {
   "cell_type": "code",
   "execution_count": null,
   "metadata": {},
   "outputs": [],
   "source": [
    "len(df)"
   ]
  },
  {
   "cell_type": "code",
   "execution_count": null,
   "metadata": {
    "scrolled": true
   },
   "outputs": [],
   "source": [
    "df['starttime'] = df['starttime'].apply(lambda x: x[:-1].replace(' ','T'))"
   ]
  },
  {
   "cell_type": "code",
   "execution_count": null,
   "metadata": {},
   "outputs": [],
   "source": [
    "df['stoptime'] = df['stoptime'].apply(lambda x: x[:-1].replace(' ','T'))"
   ]
  },
  {
   "cell_type": "code",
   "execution_count": null,
   "metadata": {},
   "outputs": [],
   "source": [
    "df.head()"
   ]
  },
  {
   "cell_type": "code",
   "execution_count": null,
   "metadata": {},
   "outputs": [],
   "source": [
    "df.columns"
   ]
  },
  {
   "cell_type": "code",
   "execution_count": null,
   "metadata": {},
   "outputs": [],
   "source": [
    "df['start station latitude']"
   ]
  },
  {
   "cell_type": "code",
   "execution_count": null,
   "metadata": {},
   "outputs": [],
   "source": [
    "sns.scatterplot(x = df['start station latitude'], y = df['start station longitude'])"
   ]
  },
  {
   "cell_type": "code",
   "execution_count": null,
   "metadata": {},
   "outputs": [],
   "source": [
    "sns.scatterplot(x = df['end station latitude'], y = df['end station longitude'])"
   ]
  },
  {
   "cell_type": "code",
   "execution_count": null,
   "metadata": {},
   "outputs": [],
   "source": [
    "df.groupby('start station name').count()"
   ]
  },
  {
   "cell_type": "code",
   "execution_count": null,
   "metadata": {},
   "outputs": [],
   "source": [
    "df.groupby('end station name')['tripduration'].count().sort_values(ascending = False)"
   ]
  },
  {
   "cell_type": "code",
   "execution_count": null,
   "metadata": {},
   "outputs": [],
   "source": [
    "df.groupby('start station name')['tripduration'].count().sort_values(ascending = False)"
   ]
  },
  {
   "cell_type": "code",
   "execution_count": null,
   "metadata": {},
   "outputs": [],
   "source": [
    "df.groupby('start station name')['tripduration'].count().sort_values(ascending = False).plot()"
   ]
  },
  {
   "cell_type": "code",
   "execution_count": null,
   "metadata": {},
   "outputs": [],
   "source": [
    "df.groupby('end station name')['tripduration'].count().sort_values(ascending = False).plot()"
   ]
  },
  {
   "cell_type": "code",
   "execution_count": null,
   "metadata": {},
   "outputs": [],
   "source": [
    "df.groupby(['start station name', 'end station name'])['tripduration'].count().sort_values(ascending= False)"
   ]
  },
  {
   "cell_type": "code",
   "execution_count": null,
   "metadata": {},
   "outputs": [],
   "source": [
    "temp = df[['starttime', 'stoptime', 'start station latitude','start station longitude','end station latitude','end station longitude' ]]"
   ]
  },
  {
   "cell_type": "code",
   "execution_count": null,
   "metadata": {},
   "outputs": [],
   "source": [
    "# geo_s = []\n",
    "# geo_e = []\n",
    "# for i in range(len(temp)):\n",
    "#     if i%100 == 0: print(i)\n",
    "#     geo_s.append([temp.loc[i]['start station latitude'], temp.loc[i]['start station longitude']])\n",
    "#     geo_e.append([temp.loc[i]['end station latitude'], temp.loc[i]['end station longitude']])"
   ]
  },
  {
   "cell_type": "markdown",
   "metadata": {},
   "source": [
    "### Data Visualization"
   ]
  },
  {
   "cell_type": "code",
   "execution_count": null,
   "metadata": {},
   "outputs": [],
   "source": [
    "# temp['starttime'] = temp['starttime'].dt.strftime('%Y-%m-%d %H:%M:%S')"
   ]
  },
  {
   "cell_type": "code",
   "execution_count": null,
   "metadata": {
    "scrolled": true
   },
   "outputs": [],
   "source": [
    "# temp['stoptime'] = temp['stoptime'].dt.strftime('%Y-%m-%d %H:%M:%S')"
   ]
  },
  {
   "cell_type": "code",
   "execution_count": null,
   "metadata": {},
   "outputs": [],
   "source": [
    "temp = temp[temp['stoptime'].str.contains('2020-07-01')]"
   ]
  },
  {
   "cell_type": "code",
   "execution_count": null,
   "metadata": {},
   "outputs": [],
   "source": [
    "temp"
   ]
  },
  {
   "cell_type": "code",
   "execution_count": null,
   "metadata": {},
   "outputs": [],
   "source": [
    "def create_geojson_features_dots_start(df):\n",
    "    features = []\n",
    "    for _, row in df.iterrows():\n",
    "        start_point = [row['start station longitude'],row['start station latitude']]\n",
    "        feature = {\n",
    "            'type': 'Feature',\n",
    "            'geometry': {\n",
    "                'type': 'Point', \n",
    "                'coordinates': start_point\n",
    "            },\n",
    "            'properties': {\n",
    "                'time': row['starttime'],\n",
    "                'style': {'color' : '#3D98CD'},\n",
    "                'icon': 'circle',\n",
    "                'iconstyle':{\n",
    "                    'fillColor': '#8bc773',\n",
    "                    'fillOpacity': 0,\n",
    "                    'stroke': 'true',\n",
    "                    'radius': 5\n",
    "                    }\n",
    "            }\n",
    "        }\n",
    "        features.append(feature)\n",
    "    return features"
   ]
  },
  {
   "cell_type": "code",
   "execution_count": null,
   "metadata": {},
   "outputs": [],
   "source": [
    "def create_geojson_features_dots_end(df):\n",
    "    features = []\n",
    "    \n",
    "    for _, row in df.iterrows():\n",
    "        end_point = [row['end station longitude'],row['end station latitude']]\n",
    "        feature = {\n",
    "            'type': 'Feature',\n",
    "            'geometry': {\n",
    "                'type': 'Point', \n",
    "                'coordinates': end_point\n",
    "            },\n",
    "            'properties': {\n",
    "                'time': row['stoptime'],\n",
    "                'style': {'color' : '#c78473'},\n",
    "                'icon': 'circle',\n",
    "                'iconstyle':{\n",
    "                    'fillColor': '#c78473',\n",
    "                    'fillOpacity': 0,\n",
    "                    'stroke': 'true',\n",
    "                    'radius': 5\n",
    "                    }\n",
    "            }\n",
    "        }\n",
    "        features.append(feature)\n",
    "    return features"
   ]
  },
  {
   "cell_type": "code",
   "execution_count": null,
   "metadata": {},
   "outputs": [],
   "source": [
    "def create_geojson_features_lines(df):\n",
    "    features = []\n",
    "    for _, row in df.iterrows():\n",
    "        start_point = [row['start station longitude'],row['start station latitude']]\n",
    "        end_point = [row['end station longitude'],row['end station latitude']]\n",
    "        feature = {\n",
    "            'type': 'Feature',\n",
    "            'geometry': {\n",
    "                'type':'LineString', #'Point', \n",
    "                'coordinates': [start_point, end_point]\n",
    "            },\n",
    "            'properties': {\n",
    "                'times': [row['starttime'], row['starttime']],\n",
    "                'style': {'color' : '#c78773'}\n",
    "            }\n",
    "        }\n",
    "        features.append(feature)\n",
    "    return features"
   ]
  },
  {
   "cell_type": "code",
   "execution_count": null,
   "metadata": {
    "scrolled": true
   },
   "outputs": [],
   "source": [
    "start_geojson = create_geojson_features_dots_start(temp) \n",
    "start_geojson[0]\n",
    "end_geojson = create_geojson_features_dots_end(temp) \n",
    "end_geojson[0]"
   ]
  },
  {
   "cell_type": "code",
   "execution_count": null,
   "metadata": {
    "scrolled": true
   },
   "outputs": [],
   "source": [
    "m = folium.Map(\n",
    "    location=[40.7504566,-73.9202403],\n",
    "    zoom_start=12,\n",
    "    zoom_control=False,\n",
    "    tiles = \"cartodbdark_matter\"\n",
    ")\n",
    "\n",
    "\n",
    "plugins.TimestampedGeoJson(start_geojson+end_geojson\n",
    "                           ,period = 'PT10S'\n",
    "                           ,duration = 'PT1M'\n",
    "                           ,add_last_point=False\n",
    "                           ,time_slider_drag_update=True\n",
    "                           ,transition_time = 10).add_to(m)\n",
    "\n",
    "m"
   ]
  },
  {
   "cell_type": "code",
   "execution_count": null,
   "metadata": {},
   "outputs": [],
   "source": [
    "# m = folium.Map(\n",
    "#     location=[40.7504566,-73.9202403],\n",
    "#     zoom_start=12,\n",
    "#     zoom_control=False,\n",
    "#     tiles = \"CartoDB Positron\"\n",
    "# )"
   ]
  },
  {
   "cell_type": "code",
   "execution_count": null,
   "metadata": {},
   "outputs": [],
   "source": [
    "m = folium.Map(\n",
    "    location=[40.7504566,-73.9202403],\n",
    "    zoom_start=12,\n",
    "    zoom_control=False,\n",
    "    tiles = \"CartoDB Positron\"\n",
    ")\n",
    "\n",
    "lines= []\n",
    "for i in range(len(temp)):\n",
    "    if i%300 == 0: print(i)\n",
    "    p1 = [temp.loc[i]['start station latitude'], temp.loc[i]['start station longitude']]\n",
    "    p2 = [temp.loc[i]['end station latitude'], temp.loc[i]['end station longitude']]\n",
    "    hmp = {}\n",
    "    hmp['coordinates'] = [p1, p2]\n",
    "    hmp['dates'] = [temp.loc[i]['starttime'],temp.loc[i]['stoptime']]\n",
    "    hmp['color'] = 'red'\n",
    "    lines.append(hmp)\n",
    "\n",
    "features = [\n",
    "    {\n",
    "        'type': 'Feature',\n",
    "        'geometry': {\n",
    "            'type': 'Point', #'LineString',\n",
    "            'coordinates': line['coordinates'][0],\n",
    "        },\n",
    "        'properties': {\n",
    "            'times': line['dates'],\n",
    "            'style': {\n",
    "                'color': line['color'],\n",
    "                'weight': 5 #line['weight'] if 'weight' in line else 5\n",
    "            }\n",
    "        }\n",
    "    }\n",
    "    for line in lines\n",
    "]\n",
    "\n",
    "# print(features)\n",
    "\n",
    "plugins.TimestampedGeoJson(\n",
    " features\n",
    ", period='PT1M'\n",
    ", add_last_point=True).add_to(m)\n",
    "\n",
    "# # m.save(os.path.join('results', 'Plugins_6.html'))\n",
    "\n",
    "\n",
    "\n",
    "\n",
    "m"
   ]
  },
  {
   "cell_type": "code",
   "execution_count": null,
   "metadata": {},
   "outputs": [],
   "source": [
    "###################################################"
   ]
  },
  {
   "cell_type": "code",
   "execution_count": null,
   "metadata": {},
   "outputs": [],
   "source": [
    "for p in geo_s:\n",
    "    folium.Circle(\n",
    "        radius=5,\n",
    "        location=[p[0], p[1]],\n",
    "        color='#73aac9',\n",
    "        fill=False,\n",
    "    ).add_to(m)"
   ]
  },
  {
   "cell_type": "code",
   "execution_count": null,
   "metadata": {},
   "outputs": [],
   "source": [
    "for p in geo_e:\n",
    "    folium.Circle(\n",
    "        radius=5,\n",
    "        location=[p[0], p[1]],\n",
    "        color='#cf907a',\n",
    "        fill=False,\n",
    "    ).add_to(m)"
   ]
  },
  {
   "cell_type": "code",
   "execution_count": null,
   "metadata": {},
   "outputs": [],
   "source": [
    "m"
   ]
  },
  {
   "cell_type": "code",
   "execution_count": null,
   "metadata": {},
   "outputs": [],
   "source": [
    "for i in range(len(temp)):\n",
    "    if i%300 == 0: print(i)\n",
    "    p1 = [temp.loc[i]['start station latitude'], temp.loc[i]['start station longitude']]\n",
    "    p2 = [temp.loc[i]['end station latitude'], temp.loc[i]['end station longitude']]\n",
    "    \n",
    "    folium.PolyLine([p1,p2], color=\"#7ab0cf\", weight=2.5, opacity=0.2).add_to(m)"
   ]
  },
  {
   "cell_type": "code",
   "execution_count": null,
   "metadata": {},
   "outputs": [],
   "source": [
    "# for p in geo_s:\n",
    "#     folium.Marker(\n",
    "#         location=[p[0],p[1]]\n",
    "#     ).add_to(m)\n"
   ]
  },
  {
   "cell_type": "code",
   "execution_count": null,
   "metadata": {},
   "outputs": [],
   "source": [
    "# m"
   ]
  }
 ],
 "metadata": {
  "kernelspec": {
   "display_name": "Python 3 (ipykernel)",
   "language": "python",
   "name": "python3"
  },
  "language_info": {
   "codemirror_mode": {
    "name": "ipython",
    "version": 3
   },
   "file_extension": ".py",
   "mimetype": "text/x-python",
   "name": "python",
   "nbconvert_exporter": "python",
   "pygments_lexer": "ipython3",
   "version": "3.11.2"
  }
 },
 "nbformat": 4,
 "nbformat_minor": 4
}
